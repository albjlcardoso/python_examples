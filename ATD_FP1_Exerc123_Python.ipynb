{
 "cells": [
  {
   "cell_type": "markdown",
   "metadata": {},
   "source": [
    "# Análise e Transformação de Dados @ DEI-FCTUC\n",
    "## Uma resolução dos exercícios 1 a 3 da Ficha Prática nº 1 usando Python\n",
    "### Autoria: Alberto Cardoso, Fevereiro 2018"
   ]
  },
  {
   "cell_type": "markdown",
   "metadata": {},
   "source": [
    "### Exercícios:\n",
    "\n",
    "<strong>Exercício 1.</strong> Considere a matriz A:\n",
    "<br/><br/>\n",
    "$A = \\begin{bmatrix}\n",
    "1 & 2 & 3 & 4\\\\\n",
    "5 & 6 & 7 & 8\n",
    "\\end{bmatrix} $\n",
    "\n",
    "1.1 Defina a matriz A no Workspace do MATLAB.\n"
   ]
  },
  {
   "cell_type": "code",
   "execution_count": 1,
   "metadata": {
    "scrolled": false
   },
   "outputs": [
    {
     "name": "stdout",
     "output_type": "stream",
     "text": [
      "[[1 2 3 4]\n",
      " [5 6 7 8]]\n"
     ]
    }
   ],
   "source": [
    "import numpy as np\n",
    "A=np.array([[1, 2, 3, 4], [5, 6, 7, 8]])\n",
    "print(A)"
   ]
  },
  {
   "cell_type": "markdown",
   "metadata": {},
   "source": [
    "1.2. Defina uma matriz B com as mesmas dimensões de A, com valores inteiros aleatórios entre 2 e 9, seguindo uma distribuição uniforme."
   ]
  },
  {
   "cell_type": "code",
   "execution_count": 2,
   "metadata": {},
   "outputs": [
    {
     "name": "stdout",
     "output_type": "stream",
     "text": [
      "[[2 2 5 5]\n",
      " [2 6 8 5]]\n"
     ]
    }
   ],
   "source": [
    "B=np.random.randint(2,9,A.shape)\n",
    "print(B)"
   ]
  },
  {
   "cell_type": "markdown",
   "metadata": {},
   "source": [
    "1.3.\tGuarde as duas matrizes num ficheiro .mat de nome abfile.mat. (Apenas em MATLAB)\n",
    "\n",
    "1.4.\tLimpe o Workspace do MATLAB. (Apenas em MATLAB)\n",
    "\n",
    "1.5.\tCarregue as matrizes armazenadas no ficheiro abfile.mat. (Apenas em MATLAB)"
   ]
  },
  {
   "cell_type": "markdown",
   "metadata": {},
   "source": [
    "1.6. Elimine a segunda coluna de A e a terceira coluna de B."
   ]
  },
  {
   "cell_type": "code",
   "execution_count": 3,
   "metadata": {},
   "outputs": [
    {
     "name": "stdout",
     "output_type": "stream",
     "text": [
      "[[1 3 4]\n",
      " [5 7 8]]\n",
      "[[2 2 5]\n",
      " [2 6 5]]\n"
     ]
    }
   ],
   "source": [
    "A=np.delete(A,1,1)\n",
    "print(A)\n",
    "B=np.delete(B,2,1)\n",
    "print(B)"
   ]
  },
  {
   "cell_type": "markdown",
   "metadata": {},
   "source": [
    "1.7.\tConcatene a matriz coluna $C_A=\\begin{bmatrix} 10 \\\\ 30 \\end{bmatrix}$ no início de A e a matriz coluna   $C_B=\\begin{bmatrix} 20 \\\\ 50 \\end{bmatrix}$ no final da matriz B."
   ]
  },
  {
   "cell_type": "code",
   "execution_count": 4,
   "metadata": {},
   "outputs": [
    {
     "name": "stdout",
     "output_type": "stream",
     "text": [
      "[[10  1  3  4]\n",
      " [30  5  7  8]]\n",
      "[[ 2  2  5 20]\n",
      " [ 2  6  5 50]]\n"
     ]
    }
   ],
   "source": [
    "CA=np.array([[10], [30]])\n",
    "CB=np.array([[20], [50]])\n",
    "A=np.append(CA,A,1)\n",
    "print(A)\n",
    "B=np.append(B,CB,1)\n",
    "print(B)"
   ]
  },
  {
   "cell_type": "markdown",
   "metadata": {},
   "source": [
    "1.8.\tObtenha a matriz Cp que é formada pela primeira linha de A e pela última linha de B."
   ]
  },
  {
   "cell_type": "code",
   "execution_count": 5,
   "metadata": {},
   "outputs": [
    {
     "name": "stdout",
     "output_type": "stream",
     "text": [
      "[[10  1  3  4]\n",
      " [ 2  6  5 50]]\n"
     ]
    }
   ],
   "source": [
    "Cp=np.concatenate(([A[0]],[B[-1]]),0)\n",
    "print(Cp)"
   ]
  },
  {
   "cell_type": "markdown",
   "metadata": {},
   "source": [
    "1.9.\tCrie uma matriz C a partir da:<br\\>\n",
    "1.9.1.\tSoma de A e B;<br\\>\n",
    "1.9.2.\tSubtração de B a A;<br\\>\n",
    "1.9.3.\tMultiplicação de A pela transposta de B;<br\\>\n",
    "1.9.4.\tMultiplicação elemento a elemento de A e B;<br\\>\n",
    "1.9.5.\tDivisão à direita de A e B;<br\\>\n",
    "1.9.6.\tDivisão à direita elemento a elemento de A e B."
   ]
  },
  {
   "cell_type": "code",
   "execution_count": 6,
   "metadata": {},
   "outputs": [
    {
     "name": "stdout",
     "output_type": "stream",
     "text": [
      "[[12  3  8 24]\n",
      " [32 11 12 58]]\n",
      "[[  8  -1  -2 -16]\n",
      " [ 28  -1   2 -42]]\n",
      "[[117 241]\n",
      " [265 525]]\n",
      "[[ 20   2  15  80]\n",
      " [ 60  30  35 400]]\n",
      "[[ 1.82554517 -0.64693666]\n",
      " [ 4.93991989 -1.80017802]]\n",
      "[[  5.           0.5          0.6          0.2       ]\n",
      " [ 15.           0.83333333   1.4          0.16      ]]\n"
     ]
    }
   ],
   "source": [
    "C=A+B\n",
    "print(C)\n",
    "C=A-B\n",
    "print(C)\n",
    "C=np.dot(A,B.T)\n",
    "print(C)\n",
    "C=A*B\n",
    "print(C)\n",
    "C=np.dot(A,np.linalg.pinv(B))\n",
    "print(C)\n",
    "C=1.*A/B\n",
    "print(C)"
   ]
  },
  {
   "cell_type": "markdown",
   "metadata": {},
   "source": [
    "<strong>Exercício 2.</strong> Considere a seguinte função dependente do tempo $f = \\sin(2\\pi t) + \\sin(\\pi t)$.\n",
    "\n",
    "2.1.\tCrie um vetor tempo t que permita obter valores para f entre -10 e 10 segundos. Considere uma diferença de 0.01s entre valores do vetor tempo. Indique a dimensão do vetor tempo.\n",
    "\n",
    "2.2.\tRepresente graficamente a evolução de f em função do tempo."
   ]
  },
  {
   "cell_type": "code",
   "execution_count": 7,
   "metadata": {},
   "outputs": [
    {
     "name": "stdout",
     "output_type": "stream",
     "text": [
      "Dimensão do vetor tempo:\n",
      "2001\n"
     ]
    },
    {
     "data": {
      "image/png": "[encoded data removed]",
      "text/plain": [
       "<matplotlib.figure.Figure at 0x64e5cf8>"
      ]
     },
     "metadata": {},
     "output_type": "display_data"
    }
   ],
   "source": [
    "import matplotlib.pyplot as plt\n",
    "\n",
    "t=np.arange(-10,10.01,0.01)\n",
    "print(u'Dimensão do vetor tempo:')\n",
    "print(len(t))\n",
    "\n",
    "f=np.sin(2*np.pi*t)+np.sin(np.pi*t)\n",
    "\n",
    "plt.plot(t,f,'-ob')\n",
    "plt.xlabel('tempo [s]')\n",
    "plt.ylabel('f(t)')\n",
    "plt.title(u'Gráfico de f(t)')\n",
    "plt.show()"
   ]
  },
  {
   "cell_type": "markdown",
   "metadata": {},
   "source": [
    "<strong>Exercício 3.</strong> Realize o exercício 2, mas recorrendo a cálculo simbólico."
   ]
  },
  {
   "cell_type": "code",
   "execution_count": 8,
   "metadata": {},
   "outputs": [
    {
     "data": {
      "image/png": "[encoded data removed]",
      "text/plain": [
       "<matplotlib.figure.Figure at 0x9ce5f60>"
      ]
     },
     "metadata": {},
     "output_type": "display_data"
    }
   ],
   "source": [
    "import sympy as sp\n",
    "import matplotlib.pyplot as plt\n",
    "\n",
    "t=sp.symbols('t')\n",
    "ft=sp.sin(2*sp.pi*t)+sp.sin(sp.pi*t)\n",
    "\n",
    "tt=np.arange(-10,10.01,0.01)\n",
    "f=sp.lambdify(t,ft,\"numpy\")\n",
    "f1=f(tt)\n",
    "\n",
    "plt.plot(tt,f1,'-or')\n",
    "plt.xlabel('tempo [s]')\n",
    "plt.ylabel('f(t)')\n",
    "plt.title(u'Gráfico de f(t)')\n",
    "plt.show()"
   ]
  }
 ],
 "metadata": {
  "kernelspec": {
   "display_name": "Python 2",
   "language": "python",
   "name": "python2"
  },
  "language_info": {
   "codemirror_mode": {
    "name": "ipython",
    "version": 2
   },
   "file_extension": ".py",
   "mimetype": "text/x-python",
   "name": "python",
   "nbconvert_exporter": "python",
   "pygments_lexer": "ipython2",
   "version": "2.7.14"
  }
 },
 "nbformat": 4,
 "nbformat_minor": 2
}
